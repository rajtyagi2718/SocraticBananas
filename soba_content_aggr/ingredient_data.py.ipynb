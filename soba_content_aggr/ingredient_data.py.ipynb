{
 "cells": [
  {
   "cell_type": "code",
   "execution_count": 1,
   "metadata": {},
   "outputs": [],
   "source": [
    "from scraper import get_responses\n",
    "from parser import get_ingredients"
   ]
  },
  {
   "cell_type": "code",
   "execution_count": 2,
   "metadata": {},
   "outputs": [],
   "source": [
    "recipes = [list(get_ingredients(response)) for response in get_responses()]"
   ]
  },
  {
   "cell_type": "code",
   "execution_count": 3,
   "metadata": {
    "scrolled": true
   },
   "outputs": [
    {
     "name": "stdout",
     "output_type": "stream",
     "text": [
      "1 1/2 cups all-purpose flour\n",
      "3 1/2 teaspoons baking powder\n",
      "1 teaspoon salt\n",
      "1 tablespoon white sugar\n",
      "1 1/4 cups milk\n",
      "1 egg\n",
      "3 tablespoons butter, melted\n",
      "----------\n",
      "3/4 cup white sugar\n",
      "1/4 cup shortening\n",
      "1 egg\n",
      "1/2 cup milk\n",
      "2 cups all-purpose flour\n",
      "2 teaspoons baking powder\n",
      "1/2 teaspoon salt\n",
      "2 cups fresh blueberries\n",
      "1/2 cup white sugar\n",
      "1/3 cup all-purpose flour\n",
      "1/2 teaspoon ground cinnamon\n",
      "1/4 cup butter, softened\n",
      "----------\n",
      "1 (1 1/4 pound) pork tenderloin, trimmed of silver skin\n",
      "salt and ground black pepper\n",
      "1/3 cup ketchup\n",
      "1/3 cup seasoned rice vinegar\n",
      "1 (8 ounce) can pineapple chunks, drained with juice reserved\n",
      "2 tablespoons brown sugar\n",
      "4 cloves garlic, minced\n",
      "2 teaspoons hot chili sauce (such as Sriracha®)\n",
      "1 teaspoon soy sauce\n",
      "1 pinch red pepper flakes\n",
      "1 tablespoon vegetable oil\n",
      "1 teaspoon butter\n",
      "1/4 cup chopped green onion (white part only)\n",
      "2 tablespoons chopped green onion tops\n",
      "----------\n",
      "3 slices bacon\n",
      "nonstick cooking spray\n",
      "1 medium head cauliflower, cut into florets\n",
      "¼ cup chicken broth\n",
      "½ teaspoon salt\n",
      "¼ teaspoon pepper\n",
      "¼ teaspoon ground turmeric (optional)\n",
      "1 (10.75 ounce) can cream of chicken soup (such as Campbell's®)\n",
      "½ cup shredded mozzarella cheese\n",
      "½ cup shredded Cheddar cheese\n",
      "1  scallion, green part only, thinly sliced\n",
      "----------\n"
     ]
    }
   ],
   "source": [
    "for recipe in recipes:\n",
    "    for ingred in recipe:\n",
    "        print(ingred)\n",
    "    print('-'*10)"
   ]
  },
  {
   "cell_type": "code",
   "execution_count": 4,
   "metadata": {},
   "outputs": [],
   "source": [
    "## spaCy default ##\n",
    "from spacy.lang.en import English\n",
    "nlp = English()\n",
    "tokenizer = nlp.Defaults.create_tokenizer(nlp)"
   ]
  },
  {
   "cell_type": "code",
   "execution_count": 5,
   "metadata": {},
   "outputs": [],
   "source": [
    "recipe_docs = [[tokenizer(ingred) for ingred in recipe] for recipe in recipes]"
   ]
  },
  {
   "cell_type": "code",
   "execution_count": 6,
   "metadata": {},
   "outputs": [
    {
     "name": "stdout",
     "output_type": "stream",
     "text": [
      "1 1/2 cups all-purpose flour\n",
      "3 1/2 teaspoons baking powder\n",
      "1 teaspoon salt\n",
      "1 tablespoon white sugar\n",
      "1 1/4 cups milk\n",
      "1 egg\n",
      "3 tablespoons butter, melted\n",
      "----------\n",
      "3/4 cup white sugar\n",
      "1/4 cup shortening\n",
      "1 egg\n",
      "1/2 cup milk\n",
      "2 cups all-purpose flour\n",
      "2 teaspoons baking powder\n",
      "1/2 teaspoon salt\n",
      "2 cups fresh blueberries\n",
      "1/2 cup white sugar\n",
      "1/3 cup all-purpose flour\n",
      "1/2 teaspoon ground cinnamon\n",
      "1/4 cup butter, softened\n",
      "----------\n",
      "1 (1 1/4 pound) pork tenderloin, trimmed of silver skin\n",
      "salt and ground black pepper\n",
      "1/3 cup ketchup\n",
      "1/3 cup seasoned rice vinegar\n",
      "1 (8 ounce) can pineapple chunks, drained with juice reserved\n",
      "2 tablespoons brown sugar\n",
      "4 cloves garlic, minced\n",
      "2 teaspoons hot chili sauce (such as Sriracha®)\n",
      "1 teaspoon soy sauce\n",
      "1 pinch red pepper flakes\n",
      "1 tablespoon vegetable oil\n",
      "1 teaspoon butter\n",
      "1/4 cup chopped green onion (white part only)\n",
      "2 tablespoons chopped green onion tops\n",
      "----------\n",
      "3 slices bacon\n",
      "nonstick cooking spray\n",
      "1 medium head cauliflower, cut into florets\n",
      "¼ cup chicken broth\n",
      "½ teaspoon salt\n",
      "¼ teaspoon pepper\n",
      "¼ teaspoon ground turmeric (optional)\n",
      "1 (10.75 ounce) can cream of chicken soup (such as Campbell's®)\n",
      "½ cup shredded mozzarella cheese\n",
      "½ cup shredded Cheddar cheese\n",
      "1  scallion, green part only, thinly sliced\n",
      "----------\n"
     ]
    }
   ],
   "source": [
    "for doc in recipe_docs:\n",
    "    for token in doc:\n",
    "        print(token.text)\n",
    "    print('-'*10)"
   ]
  },
  {
   "cell_type": "code",
   "execution_count": null,
   "metadata": {},
   "outputs": [],
   "source": []
  }
 ],
 "metadata": {
  "kernelspec": {
   "display_name": "Python 3",
   "language": "python",
   "name": "python3"
  },
  "language_info": {
   "codemirror_mode": {
    "name": "ipython",
    "version": 3
   },
   "file_extension": ".py",
   "mimetype": "text/x-python",
   "name": "python",
   "nbconvert_exporter": "python",
   "pygments_lexer": "ipython3",
   "version": "3.7.4"
  }
 },
 "nbformat": 4,
 "nbformat_minor": 2
}
